{
 "cells": [
  {
   "cell_type": "markdown",
   "metadata": {},
   "source": [
    "Tutorial - Part #1 - The SingleImage Class\n",
    "==========================================\n",
    "\n",
    "In this first tutorial the basics of the methods and properties of the\n",
    "SingleImage class are explained.\n",
    "\n",
    "This object class represents the basic unit of data which we will manipulate.\n",
    "Basically it starts containing pixel data, with its mask.\n",
    "First lets create an instance of this class with a numpy array."
   ]
  },
  {
   "cell_type": "code",
   "execution_count": 8,
   "metadata": {
    "collapsed": true
   },
   "outputs": [],
   "source": [
    "import numpy as np\n",
    "import matplotlib.pyplot as plt\n",
    "\n",
    "from properimage import single_image as s\n",
    "\n",
    "%matplotlib inline"
   ]
  },
  {
   "cell_type": "code",
   "execution_count": 24,
   "metadata": {},
   "outputs": [
    {
     "name": "stdout",
     "output_type": "stream",
     "text": [
      "Sources found = 16\n",
      "stamps will be 9 x 9\n"
     ]
    }
   ],
   "source": [
    "pixel = np.random.random((128,128))*5.\n",
    "# Add some stars to it\n",
    "star = [[35, 38, 35],\n",
    "        [38, 90, 39],\n",
    "        [35, 39, 34]]\n",
    "for i in range(25):\n",
    "    x, y = np.random.randint(120, size=2)\n",
    "    pixel[x:x+3,y:y+3] = star\n",
    "\n",
    "mask = np.random.randint(2, size=(128,128)) \n",
    "for i in range(10):\n",
    "    mask = mask & np.random.randint(2, size=(128,128))\n",
    "    \n",
    "img  = s.SingleImage(pixel, mask)"
   ]
  },
  {
   "cell_type": "markdown",
   "metadata": {
    "collapsed": true
   },
   "source": [
    "We can see that the `img` object created automatically produces an output\n",
    "displaying the number of sources found.  \n",
    "This just accounts for sources good enough for PSF estimation, which is\n",
    "the first step for any processing `ProperImage` is intended for.\n",
    "\n",
    "If we try to print the instance, (or obtain the representation output) we find\n",
    "that the explicit origin of the pixeldata is being displayed"
   ]
  },
  {
   "cell_type": "code",
   "execution_count": 25,
   "metadata": {},
   "outputs": [
    {
     "name": "stdout",
     "output_type": "stream",
     "text": [
      "SingleImage instance for ndarray\n"
     ]
    }
   ],
   "source": [
    "print img"
   ]
  },
  {
   "cell_type": "markdown",
   "metadata": {},
   "source": [
    "If you would like to acces the data inside the object `img` just ask for `pixeldata`."
   ]
  },
  {
   "cell_type": "code",
   "execution_count": 26,
   "metadata": {},
   "outputs": [
    {
     "data": {
      "text/plain": [
       "masked_array(data =\n",
       " [[0.49991724076240085 3.594849003572439 4.726826494996468 ...,\n",
       "  3.2320811744778815 1.7711443422314477 4.303720153436456]\n",
       " [3.8985187190877397 4.628335956521195 1.7811687436198764 ...,\n",
       "  3.6422301665017325 1.1722235446261309 2.220314124904969]\n",
       " [2.832667238952016 4.2908313787607355 3.7077037898046052 ...,\n",
       "  0.7339075587186783 1.116762149845646 4.118770645605194]\n",
       " ..., \n",
       " [0.3672314933697851 1.3810217704100713 0.9736055397336085 ...,\n",
       "  1.389055138901873 2.9889540658214138 0.2319102203977097]\n",
       " [2.262505950965691 2.8393124125032365 2.0263196940366295 ...,\n",
       "  0.410584367454081 1.5114687178605313 0.2735455473761911]\n",
       " [4.654877828928094 4.5654535143214625 2.857560738072229 ...,\n",
       "  1.5393068891192052 4.826739050534458 2.0048425454865852]],\n",
       "             mask =\n",
       " [[False False False ..., False False False]\n",
       " [False False False ..., False False False]\n",
       " [False False False ..., False False False]\n",
       " ..., \n",
       " [False False False ..., False False False]\n",
       " [False False False ..., False False False]\n",
       " [False False False ..., False False False]],\n",
       "       fill_value = 1e+20)"
      ]
     },
     "execution_count": 26,
     "metadata": {},
     "output_type": "execute_result"
    }
   ],
   "source": [
    "img.pixeldata"
   ]
  },
  {
   "cell_type": "markdown",
   "metadata": {},
   "source": [
    "As can be seen it is a numpy masked array, with bad pixels flagged."
   ]
  },
  {
   "cell_type": "code",
   "execution_count": 34,
   "metadata": {},
   "outputs": [
    {
     "data": {
      "text/plain": [
       "<matplotlib.image.AxesImage at 0x7f3ea8581fd0>"
      ]
     },
     "execution_count": 34,
     "metadata": {},
     "output_type": "execute_result"
    },
    {
     "data": {
      "image/png": "[encoded data removed]",
      "text/plain": [
       "<matplotlib.figure.Figure at 0x7f3ea85dce10>"
      ]
     },
     "metadata": {},
     "output_type": "display_data"
    }
   ],
   "source": [
    "plt.imshow(img.pixeldata, cmap='Greys')"
   ]
  },
  {
   "cell_type": "markdown",
   "metadata": {},
   "source": [
    "We can check the best sources extracted."
   ]
  },
  {
   "cell_type": "code",
   "execution_count": 32,
   "metadata": {},
   "outputs": [
    {
     "data": {
      "text/plain": [
       "array([(  71.00405548,   7.0048642 ,  269.5039978 ),\n",
       "       (  12.00861401,  13.99850901,  269.69400024),\n",
       "       (  56.00647723,  15.00016424,  269.38140869),\n",
       "       (  87.00006951,  17.00557731,  270.32635498),\n",
       "       ( 105.99523191,  25.00106949,  268.32998657),\n",
       "       ( 100.00837189,  27.0015163 ,  268.25619507),\n",
       "       ( 117.00701836,  27.00363529,  269.17672729),\n",
       "       (  63.99759017,  33.00593858,  269.04370117),\n",
       "       (  10.9981963 ,  33.9994771 ,  267.70703125),\n",
       "       (  75.00401897,  43.99879102,  270.33758545),\n",
       "       (  19.00529836,  47.99890724,  266.85708618),\n",
       "       (  10.99781958,  51.00003656,  266.56124878),\n",
       "       (  15.99861125,  52.00075259,  268.53210449),\n",
       "       (   3.00210666,  67.00067593,  268.37582397),\n",
       "       (  57.00391339,  68.99808907,  267.98217773),\n",
       "       (  14.00348979,  70.00235032,  268.8081665 )],\n",
       "      dtype=[('x', '<f8'), ('y', '<f8'), ('cflux', '<f8')])"
      ]
     },
     "execution_count": 32,
     "metadata": {},
     "output_type": "execute_result"
    }
   ],
   "source": [
    "img.best_sources[['x', 'y', 'cflux']]cmap='Greys', origin='lower'"
   ]
  },
  {
   "cell_type": "markdown",
   "metadata": {},
   "source": [
    "And also obtain the estimation of PSF.\n",
    "\n",
    "As the PSF may vary across the field, we use the method described in Lauer T. (2002) for spatially variant PSF.  \n",
    "The methodology returns a series of image-sized coefficients $a_i$ and a series of basis PSF elements $p_i$."
   ]
  },
  {
   "cell_type": "code",
   "execution_count": 41,
   "metadata": {},
   "outputs": [],
   "source": [
    "a_fields, psf_basis = img.get_variable_psf()"
   ]
  },
  {
   "cell_type": "markdown",
   "metadata": {},
   "source": [
    "As in our simple example we don't vary the PSF we obtain only a PSF element, and a `None` coefficient."
   ]
  },
  {
   "cell_type": "code",
   "execution_count": 42,
   "metadata": {},
   "outputs": [
    {
     "data": {
      "text/plain": [
       "1"
      ]
     },
     "execution_count": 42,
     "metadata": {},
     "output_type": "execute_result"
    }
   ],
   "source": [
    "len(psf_basis)"
   ]
  },
  {
   "cell_type": "code",
   "execution_count": 44,
   "metadata": {},
   "outputs": [
    {
     "data": {
      "text/plain": [
       "[None]"
      ]
     },
     "execution_count": 44,
     "metadata": {},
     "output_type": "execute_result"
    }
   ],
   "source": [
    "a_fields"
   ]
  },
  {
   "cell_type": "markdown",
   "metadata": {},
   "source": [
    "We may check the looks of the `psf_basis` single element."
   ]
  },
  {
   "cell_type": "code",
   "execution_count": 43,
   "metadata": {},
   "outputs": [
    {
     "data": {
      "text/plain": [
       "<matplotlib.image.AxesImage at 0x7f3ea868cf50>"
      ]
     },
     "execution_count": 43,
     "metadata": {},
     "output_type": "execute_result"
    },
    {
     "data": {
      "image/png": "[encoded data removed]",
      "text/plain": [
       "<matplotlib.figure.Figure at 0x7f3ea8542b90>"
      ]
     },
     "metadata": {},
     "output_type": "display_data"
    }
   ],
   "source": [
    "plt.imshow(psf_basis[0])"
   ]
  }
 ],
 "metadata": {
  "kernelspec": {
   "display_name": "Python 2",
   "language": "python",
   "name": "python2"
  },
  "language_info": {
   "codemirror_mode": {
    "name": "ipython",
    "version": 2
   },
   "file_extension": ".py",
   "mimetype": "text/x-python",
   "name": "python",
   "nbconvert_exporter": "python",
   "pygments_lexer": "ipython2",
   "version": "2.7.9"
  }
 },
 "nbformat": 4,
 "nbformat_minor": 2
}

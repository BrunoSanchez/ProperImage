{
 "cells": [
  {
   "cell_type": "markdown",
   "metadata": {},
   "source": [
    "Tutorial - Part #1 - The SingleImage Class\n",
    "==========================================\n",
    "\n",
    "In this first tutorial the basics of the methods and properties of the\n",
    "SingleImage class are explained.\n",
    "\n",
    "This object class represents the basic unit of data which we will manipulate.\n",
    "Basically it starts containing pixel data, with its mask.\n",
    "First lets create an instance of this class with a numpy array."
   ]
  },
  {
   "cell_type": "code",
   "execution_count": 1,
   "metadata": {
    "collapsed": true
   },
   "outputs": [],
   "source": [
    "import numpy as np\n",
    "from properimage import single_image as s"
   ]
  },
  {
   "cell_type": "code",
   "execution_count": 2,
   "metadata": {},
   "outputs": [
    {
     "name": "stdout",
     "output_type": "stream",
     "text": [
      "Sources found = 7\n",
      "stamps will be 13 x 13\n"
     ]
    }
   ],
   "source": [
    "pixel = np.random.random((128,128))*5.\n",
    "# Add some stars to it\n",
    "star = [[35, 38, 35],\n",
    "        [38, 90, 39],\n",
    "        [35, 39, 34]]\n",
    "for i in range(20):\n",
    "    x, y = np.random.randint(120, size=2)\n",
    "    pixel[x:x+3,y:y+3] = star\n",
    "\n",
    "mask = np.random.randint(2, size=(128,128))\n",
    "img  = s.SingleImage(pixel, mask)"
   ]
  },
  {
   "cell_type": "markdown",
   "metadata": {
    "collapsed": true
   },
   "source": [
    "We can see that the img object created automatically produces an output\n",
    "displaying the number of sources found.  \n",
    "This just accounts for sources good enough for PSF estimation, which is\n",
    "the first step for any processing ProperImage is intended for.\n",
    "\n",
    "If we try to print the instance, (or obtain the representation output) we find\n",
    "that the explicit origin of the pixeldata is being displayed"
   ]
  },
  {
   "cell_type": "code",
   "execution_count": 3,
   "metadata": {},
   "outputs": [
    {
     "name": "stdout",
     "output_type": "stream",
     "text": [
      "SingleImage instance for ndarray\n"
     ]
    }
   ],
   "source": [
    "print img"
   ]
  },
  {
   "cell_type": "code",
   "execution_count": null,
   "metadata": {
    "collapsed": true
   },
   "outputs": [],
   "source": []
  }
 ],
 "metadata": {
  "kernelspec": {
   "display_name": "Python 2",
   "language": "python",
   "name": "python2"
  },
  "language_info": {
   "codemirror_mode": {
    "name": "ipython",
    "version": 2
   },
   "file_extension": ".py",
   "mimetype": "text/x-python",
   "name": "python",
   "nbconvert_exporter": "python",
   "pygments_lexer": "ipython2",
   "version": "2.7.9"
  }
 },
 "nbformat": 4,
 "nbformat_minor": 2
}

{
 "cells": [
  {
   "cell_type": "markdown",
   "metadata": {},
   "source": [
    "Tutorial - Part #1 - The SingleImage Class\n",
    "==========================================\n",
    "\n",
    "In this first tutorial the basics of the methods and properties of the\n",
    "SingleImage class are explained.\n",
    "\n",
    "This object class represents the basic unit of data which we will manipulate.\n",
    "Basically it starts containing pixel data, with its mask.\n",
    "First lets create an instance of this class with a numpy array."
   ]
  },
  {
   "cell_type": "code",
   "execution_count": 1,
   "metadata": {},
   "outputs": [],
   "source": [
    "import numpy as np\n",
    "import matplotlib.pyplot as plt\n",
    "\n",
    "from properimage import single_image as s\n",
    "\n",
    "%matplotlib inline"
   ]
  },
  {
   "cell_type": "code",
   "execution_count": 2,
   "metadata": {},
   "outputs": [],
   "source": [
    "pixel = np.random.random((128,128))*5.\n",
    "# Add some stars to it\n",
    "star = [[35, 38, 35],\n",
    "        [38, 90, 39],\n",
    "        [35, 39, 34]]\n",
    "for i in range(25):\n",
    "    x, y = np.random.randint(120, size=2)\n",
    "    pixel[x:x+3,y:y+3] = star\n",
    "\n",
    "mask = np.random.randint(2, size=(128,128)) \n",
    "for i in range(10):\n",
    "    mask = mask & np.random.randint(2, size=(128,128))\n",
    "    \n",
    "img  = s.SingleImage(pixel, mask)"
   ]
  },
  {
   "cell_type": "markdown",
   "metadata": {},
   "source": [
    "We can see that the `img` object created automatically produces an output\n",
    "displaying the number of sources found.  \n",
    "This just accounts for sources good enough for PSF estimation, which is\n",
    "the first step for any processing `ProperImage` is intended for.\n",
    "\n",
    "If we try to print the instance, (or obtain the representation output) we find\n",
    "that the explicit origin of the pixeldata is being displayed"
   ]
  },
  {
   "cell_type": "code",
   "execution_count": 3,
   "metadata": {},
   "outputs": [
    {
     "name": "stdout",
     "output_type": "stream",
     "text": [
      "SingleImage instance for ndarray\n"
     ]
    }
   ],
   "source": [
    "print(img)"
   ]
  },
  {
   "cell_type": "markdown",
   "metadata": {},
   "source": [
    "If you would like to acces the data inside the object `img` just ask for `pixeldata`."
   ]
  },
  {
   "cell_type": "code",
   "execution_count": 4,
   "metadata": {},
   "outputs": [
    {
     "data": {
      "text/plain": [
       "masked_array(\n",
       "  data=[[3.861593008041382, 2.0196776390075684, 0.27352550625801086, ...,\n",
       "         0.9212844371795654, 1.024159550666809, 2.9505748748779297],\n",
       "        [3.7319023609161377, 1.8368569612503052, 3.98307466506958, ...,\n",
       "         1.6425279378890991, 2.501436948776245, 0.09672260284423828],\n",
       "        [1.8395156860351562, 4.079310894012451, 4.96801233291626, ...,\n",
       "         4.896277904510498, 3.7164015769958496, 3.0924389362335205],\n",
       "        ...,\n",
       "        [1.3202760219573975, 1.7492672204971313, 1.7223570346832275, ...,\n",
       "         2.6584722995758057, 0.4502115845680237, 2.220259428024292],\n",
       "        [3.9587104320526123, 2.361539363861084, 4.72817850112915, ...,\n",
       "         4.584884166717529, 0.1298598051071167, 1.552980661392212],\n",
       "        [2.8541738986968994, 3.7570996284484863, 4.125792980194092, ...,\n",
       "         2.8061201572418213, 0.9075712561607361, 1.8762856721878052]],\n",
       "  mask=[[False, False, False, ..., False, False, False],\n",
       "        [False, False, False, ..., False, False, False],\n",
       "        [False, False, False, ..., False, False, False],\n",
       "        ...,\n",
       "        [False, False, False, ..., False, False, False],\n",
       "        [False, False, False, ..., False, False, False],\n",
       "        [False, False, False, ..., False, False, False]],\n",
       "  fill_value=1e+20,\n",
       "  dtype=float32)"
      ]
     },
     "execution_count": 4,
     "metadata": {},
     "output_type": "execute_result"
    }
   ],
   "source": [
    "img.pixeldata"
   ]
  },
  {
   "cell_type": "markdown",
   "metadata": {},
   "source": [
    "As can be seen it is a numpy masked array, with bad pixels flagged."
   ]
  },
  {
   "cell_type": "code",
   "execution_count": 5,
   "metadata": {},
   "outputs": [
    {
     "data": {
      "text/plain": [
       "<matplotlib.image.AxesImage at 0x7f180d10afd0>"
      ]
     },
     "execution_count": 5,
     "metadata": {},
     "output_type": "execute_result"
    },
    {
     "data": {
      "image/png": "[encoded data removed]",
      "text/plain": [
       "<Figure size 432x432 with 1 Axes>"
      ]
     },
     "metadata": {
      "needs_background": "light"
     },
     "output_type": "display_data"
    }
   ],
   "source": [
    "plt.figure(figsize=(6,6))\n",
    "plt.imshow(img.pixeldata, cmap='Greys')"
   ]
  },
  {
   "cell_type": "markdown",
   "metadata": {},
   "source": [
    "We can check the best sources extracted."
   ]
  },
  {
   "cell_type": "code",
   "execution_count": 6,
   "metadata": {},
   "outputs": [
    {
     "data": {
      "text/plain": [
       "array([( 58.00277026,   7.99782687, 268.58624268),\n",
       "       ( 70.99991538,   8.99658983, 270.16235352),\n",
       "       ( 63.00255254,  22.99469012, 266.30847168),\n",
       "       (108.00106874,  24.00427352, 269.51828003),\n",
       "       ( 19.99780805,  24.99978873, 266.05368042),\n",
       "       ( 24.99983997,  31.00205361, 265.97857666),\n",
       "       ( 47.00216523,  37.99432643, 268.41726685),\n",
       "       (119.99700901,  46.00093685, 267.47576904),\n",
       "       ( 36.00033251,  83.00039817, 266.6668396 ),\n",
       "       ( 92.00367497,  89.00045462, 267.4937439 ),\n",
       "       ( 38.99966331,  95.00173673, 267.0223999 ),\n",
       "       ( 91.00323326,  96.99981811, 270.17242432),\n",
       "       ( 98.00121345, 101.9978166 , 267.44610596),\n",
       "       ( 86.00078336, 116.99608498, 266.30340576)],\n",
       "      dtype={'names':['x','y','cflux'], 'formats':['<f8','<f8','<f8'], 'offsets':[56,64,168], 'itemsize':240})"
      ]
     },
     "execution_count": 6,
     "metadata": {},
     "output_type": "execute_result"
    }
   ],
   "source": [
    "img.best_sources[['x', 'y', 'cflux']]"
   ]
  },
  {
   "cell_type": "markdown",
   "metadata": {},
   "source": [
    "And also obtain the estimation of PSF.\n",
    "\n",
    "As the PSF may vary across the field, we use the method described in Lauer T. (2002) for spatially variant PSF.  \n",
    "The methodology returns a series of image-sized coefficients $a_i$ and a series of basis PSF elements $p_i$."
   ]
  },
  {
   "cell_type": "code",
   "execution_count": 7,
   "metadata": {},
   "outputs": [
    {
     "name": "stdout",
     "output_type": "stream",
     "text": [
      "updating stamp shape to (15,15)\n",
      "(14, 14) (225, 14)\n"
     ]
    }
   ],
   "source": [
    "a_fields, psf_basis = img.get_variable_psf()"
   ]
  },
  {
   "cell_type": "markdown",
   "metadata": {},
   "source": [
    "As in our simple example we don't vary the PSF we obtain only a PSF element, and a `None` coefficient."
   ]
  },
  {
   "cell_type": "code",
   "execution_count": 8,
   "metadata": {},
   "outputs": [
    {
     "data": {
      "text/plain": [
       "(1, (15, 15))"
      ]
     },
     "execution_count": 8,
     "metadata": {},
     "output_type": "execute_result"
    }
   ],
   "source": [
    "len(psf_basis), psf_basis[0].shape"
   ]
  },
  {
   "cell_type": "code",
   "execution_count": 9,
   "metadata": {},
   "outputs": [
    {
     "data": {
      "text/plain": [
       "[None]"
      ]
     },
     "execution_count": 9,
     "metadata": {},
     "output_type": "execute_result"
    }
   ],
   "source": [
    "a_fields"
   ]
  },
  {
   "cell_type": "markdown",
   "metadata": {},
   "source": [
    "We may check the looks of the `psf_basis` single element."
   ]
  },
  {
   "cell_type": "code",
   "execution_count": 10,
   "metadata": {},
   "outputs": [
    {
     "data": {
      "text/plain": [
       "<matplotlib.image.AxesImage at 0x7f180b3fb358>"
      ]
     },
     "execution_count": 10,
     "metadata": {},
     "output_type": "execute_result"
    },
    {
     "data": {
      "image/png": "[encoded data removed]",
      "text/plain": [
       "<Figure size 432x288 with 1 Axes>"
      ]
     },
     "metadata": {
      "needs_background": "light"
     },
     "output_type": "display_data"
    }
   ],
   "source": [
    "plt.imshow(psf_basis[0])"
   ]
  }
 ],
 "metadata": {
  "kernelspec": {
   "display_name": "Python 3",
   "language": "python",
   "name": "python3"
  },
  "language_info": {
   "codemirror_mode": {
    "name": "ipython",
    "version": 3
   },
   "file_extension": ".py",
   "mimetype": "text/x-python",
   "name": "python",
   "nbconvert_exporter": "python",
   "pygments_lexer": "ipython3",
   "version": "3.7.3"
  }
 },
 "nbformat": 4,
 "nbformat_minor": 4
}

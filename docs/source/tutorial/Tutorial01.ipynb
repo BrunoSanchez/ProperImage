{
 "cells": [
  {
   "cell_type": "markdown",
   "metadata": {},
   "source": [
    "Tutorial - Part #1 - The SingleImage Class\n",
    "==========================================\n",
    "\n",
    "In this first tutorial the basics of the methods and properties of the\n",
    "SingleImage class are explained.\n",
    "\n",
    "This object class represents the basic unit of data which we will manipulate.\n",
    "Basically it starts containing pixel data, with its mask.\n",
    "First lets create an instance of this class with a numpy array."
   ]
  },
  {
   "cell_type": "code",
   "execution_count": 1,
   "metadata": {
    "collapsed": true
   },
   "outputs": [],
   "source": [
    "import numpy as np\n",
    "import matplotlib.pyplot as plt\n",
    "\n",
    "from properimage import single_image as s\n",
    "\n",
    "%matplotlib inline"
   ]
  },
  {
   "cell_type": "code",
   "execution_count": 2,
   "metadata": {},
   "outputs": [
    {
     "name": "stdout",
     "output_type": "stream",
     "text": [
      "Sources found = 17\n",
      "stamps will be 9 x 9\n"
     ]
    }
   ],
   "source": [
    "pixel = np.random.random((128,128))*5.\n",
    "# Add some stars to it\n",
    "star = [[35, 38, 35],\n",
    "        [38, 90, 39],\n",
    "        [35, 39, 34]]\n",
    "for i in range(25):\n",
    "    x, y = np.random.randint(120, size=2)\n",
    "    pixel[x:x+3,y:y+3] = star\n",
    "\n",
    "mask = np.random.randint(2, size=(128,128)) \n",
    "for i in range(10):\n",
    "    mask = mask & np.random.randint(2, size=(128,128))\n",
    "    \n",
    "img  = s.SingleImage(pixel, mask)"
   ]
  },
  {
   "cell_type": "markdown",
   "metadata": {
    "collapsed": true
   },
   "source": [
    "We can see that the `img` object created automatically produces an output\n",
    "displaying the number of sources found.  \n",
    "This just accounts for sources good enough for PSF estimation, which is\n",
    "the first step for any processing `ProperImage` is intended for.\n",
    "\n",
    "If we try to print the instance, (or obtain the representation output) we find\n",
    "that the explicit origin of the pixeldata is being displayed"
   ]
  },
  {
   "cell_type": "code",
   "execution_count": 3,
   "metadata": {},
   "outputs": [
    {
     "name": "stdout",
     "output_type": "stream",
     "text": [
      "SingleImage instance for ndarray\n"
     ]
    }
   ],
   "source": [
    "print(img)"
   ]
  },
  {
   "cell_type": "markdown",
   "metadata": {},
   "source": [
    "If you would like to acces the data inside the object `img` just ask for `pixeldata`."
   ]
  },
  {
   "cell_type": "code",
   "execution_count": 4,
   "metadata": {},
   "outputs": [
    {
     "data": {
      "text/plain": [
       "masked_array(\n",
       "  data=[[1.4203282594680786, 3.262984275817871, 1.5229618549346924, ...,\n",
       "         3.072129249572754, 2.4392294883728027, 4.7208170890808105],\n",
       "        [2.8659825325012207, 2.971263885498047, 0.7333607077598572, ...,\n",
       "         2.49165940284729, 1.520110011100769, 3.6496353149414062],\n",
       "        [4.4659576416015625, 0.27638211846351624, 3.71787428855896, ...,\n",
       "         2.2549049854278564, 0.029492495581507683, 2.90779447555542],\n",
       "        ...,\n",
       "        [0.024683229625225067, 1.9301072359085083, 0.2548392117023468,\n",
       "         ..., 0.43588384985923767, 4.078049659729004, 2.0701656341552734],\n",
       "        [0.8297277688980103, 3.261453151702881, 1.11188542842865, ...,\n",
       "         3.8475327491760254, 0.7472858428955078, 1.8496981859207153],\n",
       "        [2.9372239112854004, 2.4831135272979736, 3.0632810592651367, ...,\n",
       "         1.2178722620010376, 1.696664571762085, 2.5680007934570312]],\n",
       "  mask=[[False, False, False, ..., False, False, False],\n",
       "        [False, False, False, ..., False, False, False],\n",
       "        [False, False, False, ..., False, False, False],\n",
       "        ...,\n",
       "        [False, False, False, ..., False, False, False],\n",
       "        [False, False, False, ..., False, False, False],\n",
       "        [False, False, False, ..., False, False, False]],\n",
       "  fill_value=1e+20,\n",
       "  dtype=float32)"
      ]
     },
     "execution_count": 4,
     "metadata": {},
     "output_type": "execute_result"
    }
   ],
   "source": [
    "img.pixeldata"
   ]
  },
  {
   "cell_type": "markdown",
   "metadata": {},
   "source": [
    "As can be seen it is a numpy masked array, with bad pixels flagged."
   ]
  },
  {
   "cell_type": "code",
   "execution_count": 5,
   "metadata": {},
   "outputs": [
    {
     "data": {
      "text/plain": [
       "<matplotlib.image.AxesImage at 0x7fe5fe475490>"
      ]
     },
     "execution_count": 5,
     "metadata": {},
     "output_type": "execute_result"
    },
    {
     "data": {
      "image/png": "[encoded data removed]",
      "text/plain": [
       "<matplotlib.figure.Figure at 0x7fe641a6a110>"
      ]
     },
     "metadata": {},
     "output_type": "display_data"
    }
   ],
   "source": [
    "plt.figure(figsize=(6,6))\n",
    "plt.imshow(img.pixeldata, cmap='Greys')"
   ]
  },
  {
   "cell_type": "markdown",
   "metadata": {},
   "source": [
    "We can check the best sources extracted."
   ]
  },
  {
   "cell_type": "code",
   "execution_count": 6,
   "metadata": {},
   "outputs": [
    {
     "data": {
      "text/plain": [
       "array([( 30.99720469,  18.00634324, 270.41488647),\n",
       "       ( 72.0020552 ,  22.00103055, 266.96054077),\n",
       "       ( 55.00126334,  26.99728774, 267.79925537),\n",
       "       ( 39.00218292,  29.99476292, 268.26019287),\n",
       "       ( 52.00053689,  68.99747219, 267.14871216),\n",
       "       ( 76.00392034,  69.00407385, 267.75125122),\n",
       "       ( 84.99915999,  74.99719979, 266.90234375),\n",
       "       ( 92.00064576,  79.00074776, 268.99624634),\n",
       "       (106.00074602,  80.00781451, 268.1000061 ),\n",
       "       ( 57.00047577,  83.00212316, 268.4987793 ),\n",
       "       ( 79.99952665,  87.99583857, 267.46243286),\n",
       "       (110.00120309,  94.00412317, 267.05651855),\n",
       "       ( 99.9998107 , 103.00171797, 265.56295776),\n",
       "       (116.99704726, 104.00066924, 268.83099365),\n",
       "       (100.99520147, 108.9959733 , 267.046875  ),\n",
       "       (104.00230055, 117.00356281, 268.51068115),\n",
       "       ( 13.99735389, 119.00359869, 267.61053467)],\n",
       "      dtype=[('x', '<f8'), ('y', '<f8'), ('cflux', '<f8')])"
      ]
     },
     "execution_count": 6,
     "metadata": {},
     "output_type": "execute_result"
    }
   ],
   "source": [
    "img.best_sources[['x', 'y', 'cflux']]"
   ]
  },
  {
   "cell_type": "markdown",
   "metadata": {},
   "source": [
    "And also obtain the estimation of PSF.\n",
    "\n",
    "As the PSF may vary across the field, we use the method described in Lauer T. (2002) for spatially variant PSF.  \n",
    "The methodology returns a series of image-sized coefficients $a_i$ and a series of basis PSF elements $p_i$."
   ]
  },
  {
   "cell_type": "code",
   "execution_count": 7,
   "metadata": {},
   "outputs": [
    {
     "name": "stdout",
     "output_type": "stream",
     "text": [
      "('Masked pixels: ', 8)\n"
     ]
    },
    {
     "name": "stderr",
     "output_type": "stream",
     "text": [
      "/home/bruno/.virtualenvs/iPTF/local/lib/python2.7/site-packages/astropy/convolution/convolve.py:673: FutureWarning: Using a non-tuple sequence for multidimensional indexing is deprecated; use `arr[tuple(seq)]` instead of `arr[seq]`. In the future this will be interpreted as an array index, `arr[np.array(seq)]`, which will result either in an error or a different result.\n",
      "  bigarray[arrayslices] = array\n",
      "/home/bruno/.virtualenvs/iPTF/local/lib/python2.7/site-packages/astropy/convolution/convolve.py:679: FutureWarning: Using a non-tuple sequence for multidimensional indexing is deprecated; use `arr[tuple(seq)]` instead of `arr[seq]`. In the future this will be interpreted as an array index, `arr[np.array(seq)]`, which will result either in an error or a different result.\n",
      "  bigkernel[kernslices] = normalized_kernel\n",
      "/home/bruno/.virtualenvs/iPTF/local/lib/python2.7/site-packages/astropy/convolution/convolve.py:695: FutureWarning: Using a non-tuple sequence for multidimensional indexing is deprecated; use `arr[tuple(seq)]` instead of `arr[seq]`. In the future this will be interpreted as an array index, `arr[np.array(seq)]`, which will result either in an error or a different result.\n",
      "  bigimwt[arrayslices] = 1.0 - nanmaskarray * interpolate_nan\n"
     ]
    },
    {
     "name": "stdout",
     "output_type": "stream",
     "text": [
      "updating stamp shape to (15,15)\n",
      "((17, 17), (225, 17))\n"
     ]
    },
    {
     "name": "stderr",
     "output_type": "stream",
     "text": [
      "/home/bruno/.virtualenvs/iPTF/local/lib/python2.7/site-packages/astropy/convolution/convolve.py:703: FutureWarning: Using a non-tuple sequence for multidimensional indexing is deprecated; use `arr[tuple(seq)]` instead of `arr[seq]`. In the future this will be interpreted as an array index, `arr[np.array(seq)]`, which will result either in an error or a different result.\n",
      "  bigimwt[arrayslices] = wtsm.real[arrayslices]\n",
      "/home/bruno/.virtualenvs/iPTF/local/lib/python2.7/site-packages/astropy/convolution/convolve.py:738: FutureWarning: Using a non-tuple sequence for multidimensional indexing is deprecated; use `arr[tuple(seq)]` instead of `arr[seq]`. In the future this will be interpreted as an array index, `arr[np.array(seq)]`, which will result either in an error or a different result.\n",
      "  result = rifft[arrayslices].real\n"
     ]
    }
   ],
   "source": [
    "a_fields, psf_basis = img.get_variable_psf()"
   ]
  },
  {
   "cell_type": "markdown",
   "metadata": {},
   "source": [
    "As in our simple example we don't vary the PSF we obtain only a PSF element, and a `None` coefficient."
   ]
  },
  {
   "cell_type": "code",
   "execution_count": 8,
   "metadata": {},
   "outputs": [
    {
     "data": {
      "text/plain": [
       "(1, (15, 15))"
      ]
     },
     "execution_count": 8,
     "metadata": {},
     "output_type": "execute_result"
    }
   ],
   "source": [
    "len(psf_basis), psf_basis[0].shape"
   ]
  },
  {
   "cell_type": "code",
   "execution_count": 9,
   "metadata": {},
   "outputs": [
    {
     "data": {
      "text/plain": [
       "[None]"
      ]
     },
     "execution_count": 9,
     "metadata": {},
     "output_type": "execute_result"
    }
   ],
   "source": [
    "a_fields"
   ]
  },
  {
   "cell_type": "markdown",
   "metadata": {},
   "source": [
    "We may check the looks of the `psf_basis` single element."
   ]
  },
  {
   "cell_type": "code",
   "execution_count": 10,
   "metadata": {},
   "outputs": [
    {
     "data": {
      "text/plain": [
       "<matplotlib.image.AxesImage at 0x7fe5fd33d2d0>"
      ]
     },
     "execution_count": 10,
     "metadata": {},
     "output_type": "execute_result"
    },
    {
     "data": {
      "image/png": "[encoded data removed]",
      "text/plain": [
       "<matplotlib.figure.Figure at 0x7fe5fe44d390>"
      ]
     },
     "metadata": {},
     "output_type": "display_data"
    }
   ],
   "source": [
    "plt.imshow(psf_basis[0])"
   ]
  },
  {
   "cell_type": "code",
   "execution_count": null,
   "metadata": {
    "collapsed": true
   },
   "outputs": [],
   "source": []
  },
  {
   "cell_type": "code",
   "execution_count": null,
   "metadata": {
    "collapsed": true
   },
   "outputs": [],
   "source": []
  }
 ],
 "metadata": {
  "kernelspec": {
   "display_name": "Python 2",
   "language": "python",
   "name": "python2"
  },
  "language_info": {
   "codemirror_mode": {
    "name": "ipython",
    "version": 2
   },
   "file_extension": ".py",
   "mimetype": "text/x-python",
   "name": "python",
   "nbconvert_exporter": "python",
   "pygments_lexer": "ipython2",
   "version": "2.7.9"
  }
 },
 "nbformat": 4,
 "nbformat_minor": 2
}
